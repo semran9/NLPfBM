{
 "cells": [
  {
   "cell_type": "code",
   "execution_count": 7,
   "id": "69216607-0a86-49aa-b111-80765bddc895",
   "metadata": {
    "tags": []
   },
   "outputs": [],
   "source": [
    "# preprocessing and vector extraction"
   ]
  },
  {
   "cell_type": "code",
   "execution_count": 6,
   "id": "ad9c6720-795e-4e63-ba3c-cf1b2212e3b6",
   "metadata": {
    "tags": []
   },
   "outputs": [],
   "source": [
    "from preprocessing import clean_text\n",
    "from data_load import transform_vects\n",
    "import vectorizers as vect\n",
    "glove = vect.GloVeVectorizer(50)\n",
    "data = open('./data/01_LOTR_Fellowship.txt')\n",
    "data = data.read()\n",
    "data = clean_text(data)\n",
    "vectors = glove.vectorize(data[100:800])\n",
    "ts, ys, white_noise = transform_vects(vectors, 1)"
   ]
  },
  {
   "cell_type": "code",
   "execution_count": 7,
   "id": "635d49e9-1299-4138-bc85-2dcfe3d4d464",
   "metadata": {
    "tags": []
   },
   "outputs": [],
   "source": [
    "# importing for Hurst discovery\n",
    "import os\n",
    "import sys\n",
    "# !pip install torch torchsde numpy seaborn matplotlib\n",
    "\n",
    "sys.path.append(\"..\")\n",
    "\n",
    "import matplotlib.pyplot as plt\n",
    "import numpy as np\n",
    "import seaborn as sns\n",
    "import torch\n",
    "import torchsde\n",
    "from fractional_neural_sde.fractional_noise import SparseGPNoise\n",
    "from fractional_neural_sde.latent_sde import LatentSDE\n",
    "from fractional_neural_sde.utils import LinearScheduler, manual_seed, plot_setting\n",
    "from torch import distributions, optim\n",
    "import data_load\n",
    "adjoint = False\n",
    "device = \"cuda\"\n",
    "train_iters = 3000\n",
    "kl_anneal_iters = 100\n",
    "likelihood_cls = distributions.Laplace\n",
    "scale = 0.025\n",
    "method = \"euler\"\n",
    "dt = 5 * 1e-3\n",
    "batch_size = 50\n",
    "seed = 0\n",
    "device = torch.device(device if torch.cuda.is_available() else \"cpu\")"
   ]
  },
  {
   "cell_type": "code",
   "execution_count": null,
   "id": "375a058a-a06f-45fe-b454-b0a2781465d7",
   "metadata": {
    "tags": []
   },
   "outputs": [],
   "source": []
  },
  {
   "cell_type": "code",
   "execution_count": 8,
   "id": "423b929b-77eb-4dbd-8b5b-3c36c1dde108",
   "metadata": {
    "tags": []
   },
   "outputs": [
    {
     "name": "stderr",
     "output_type": "stream",
     "text": [
      "/Users/shayaanemran/anaconda3/envs/jupyterlab/lib/python3.11/site-packages/tqdm/auto.py:21: TqdmWarning: IProgress not found. Please update jupyter and ipywidgets. See https://ipywidgets.readthedocs.io/en/stable/user_install.html\n",
      "  from .autonotebook import tqdm as notebook_tqdm\n"
     ]
    }
   ],
   "source": [
    "model = LatentSDE(white_noise).to(device)\n",
    "sdeint_fn = torchsde.sdeint\n",
    "optimizer = optim.Adam(model.parameters(), lr=0.1, weight_decay=1e-5)\n",
    "scheduler = optim.lr_scheduler.ExponentialLR(optimizer, gamma=0.999)\n",
    "kl_scheduler = LinearScheduler(iters=kl_anneal_iters)\n",
    "manual_seed(seed)"
   ]
  },
  {
   "cell_type": "code",
   "execution_count": 6,
   "id": "78edd73c-bd2c-4a85-a880-9e869c96395c",
   "metadata": {
    "tags": []
   },
   "outputs": [
    {
     "data": {
      "image/png": "[encoded data removed]",
      "text/plain": [
       "<Figure size 500x400 with 1 Axes>"
      ]
     },
     "metadata": {},
     "output_type": "display_data"
    },
    {
     "name": "stdout",
     "output_type": "stream",
     "text": [
      "Iter: 0 \tlogpy: -41051.812 \tkl: 1006.022 \tloss: 41071.933\n"
     ]
    },
    {
     "ename": "ValueError",
     "evalue": "Expected parameter loc (Parameter of shape (1, 1)) of distribution Normal(loc: Parameter containing:\ntensor([[nan]], requires_grad=True), scale: tensor([[nan]], grad_fn=<ExpBackward0>)) to satisfy the constraint Real(), but found invalid values:\nParameter containing:\ntensor([[nan]], requires_grad=True)",
     "output_type": "error",
     "traceback": [
      "\u001b[0;31m---------------------------------------------------------------------------\u001b[0m",
      "\u001b[0;31mValueError\u001b[0m                                Traceback (most recent call last)",
      "Cell \u001b[0;32mIn[6], line 3\u001b[0m\n\u001b[1;32m      1\u001b[0m \u001b[38;5;28;01mfor\u001b[39;00m i \u001b[38;5;129;01min\u001b[39;00m \u001b[38;5;28mrange\u001b[39m(\u001b[38;5;241m100\u001b[39m):\n\u001b[1;32m      2\u001b[0m     optimizer\u001b[38;5;241m.\u001b[39mzero_grad()\n\u001b[0;32m----> 3\u001b[0m     zs, kl \u001b[38;5;241m=\u001b[39m model(\n\u001b[1;32m      4\u001b[0m         ts\u001b[38;5;241m=\u001b[39mts, batch_size\u001b[38;5;241m=\u001b[39mbatch_size, sdeint_fn\u001b[38;5;241m=\u001b[39msdeint_fn, method\u001b[38;5;241m=\u001b[39mmethod, dt\u001b[38;5;241m=\u001b[39mdt\n\u001b[1;32m      5\u001b[0m     )\n\u001b[1;32m      6\u001b[0m     zs \u001b[38;5;241m=\u001b[39m zs\u001b[38;5;241m.\u001b[39msqueeze()\n\u001b[1;32m      7\u001b[0m     zs \u001b[38;5;241m=\u001b[39m zs[\u001b[38;5;241m1\u001b[39m:\u001b[38;5;241m-\u001b[39m\u001b[38;5;241m1\u001b[39m]\n",
      "File \u001b[0;32m~/anaconda3/envs/jupyterlab/lib/python3.11/site-packages/torch/nn/modules/module.py:1518\u001b[0m, in \u001b[0;36mModule._wrapped_call_impl\u001b[0;34m(self, *args, **kwargs)\u001b[0m\n\u001b[1;32m   1516\u001b[0m     \u001b[38;5;28;01mreturn\u001b[39;00m \u001b[38;5;28mself\u001b[39m\u001b[38;5;241m.\u001b[39m_compiled_call_impl(\u001b[38;5;241m*\u001b[39margs, \u001b[38;5;241m*\u001b[39m\u001b[38;5;241m*\u001b[39mkwargs)  \u001b[38;5;66;03m# type: ignore[misc]\u001b[39;00m\n\u001b[1;32m   1517\u001b[0m \u001b[38;5;28;01melse\u001b[39;00m:\n\u001b[0;32m-> 1518\u001b[0m     \u001b[38;5;28;01mreturn\u001b[39;00m \u001b[38;5;28mself\u001b[39m\u001b[38;5;241m.\u001b[39m_call_impl(\u001b[38;5;241m*\u001b[39margs, \u001b[38;5;241m*\u001b[39m\u001b[38;5;241m*\u001b[39mkwargs)\n",
      "File \u001b[0;32m~/anaconda3/envs/jupyterlab/lib/python3.11/site-packages/torch/nn/modules/module.py:1527\u001b[0m, in \u001b[0;36mModule._call_impl\u001b[0;34m(self, *args, **kwargs)\u001b[0m\n\u001b[1;32m   1522\u001b[0m \u001b[38;5;66;03m# If we don't have any hooks, we want to skip the rest of the logic in\u001b[39;00m\n\u001b[1;32m   1523\u001b[0m \u001b[38;5;66;03m# this function, and just call forward.\u001b[39;00m\n\u001b[1;32m   1524\u001b[0m \u001b[38;5;28;01mif\u001b[39;00m \u001b[38;5;129;01mnot\u001b[39;00m (\u001b[38;5;28mself\u001b[39m\u001b[38;5;241m.\u001b[39m_backward_hooks \u001b[38;5;129;01mor\u001b[39;00m \u001b[38;5;28mself\u001b[39m\u001b[38;5;241m.\u001b[39m_backward_pre_hooks \u001b[38;5;129;01mor\u001b[39;00m \u001b[38;5;28mself\u001b[39m\u001b[38;5;241m.\u001b[39m_forward_hooks \u001b[38;5;129;01mor\u001b[39;00m \u001b[38;5;28mself\u001b[39m\u001b[38;5;241m.\u001b[39m_forward_pre_hooks\n\u001b[1;32m   1525\u001b[0m         \u001b[38;5;129;01mor\u001b[39;00m _global_backward_pre_hooks \u001b[38;5;129;01mor\u001b[39;00m _global_backward_hooks\n\u001b[1;32m   1526\u001b[0m         \u001b[38;5;129;01mor\u001b[39;00m _global_forward_hooks \u001b[38;5;129;01mor\u001b[39;00m _global_forward_pre_hooks):\n\u001b[0;32m-> 1527\u001b[0m     \u001b[38;5;28;01mreturn\u001b[39;00m forward_call(\u001b[38;5;241m*\u001b[39margs, \u001b[38;5;241m*\u001b[39m\u001b[38;5;241m*\u001b[39mkwargs)\n\u001b[1;32m   1529\u001b[0m \u001b[38;5;28;01mtry\u001b[39;00m:\n\u001b[1;32m   1530\u001b[0m     result \u001b[38;5;241m=\u001b[39m \u001b[38;5;28;01mNone\u001b[39;00m\n",
      "File \u001b[0;32m~/Downloads/fractional_neural_sde/fractional_neural_sde/../fractional_neural_sde/latent_sde.py:143\u001b[0m, in \u001b[0;36mLatentSDE.forward\u001b[0;34m(self, ts, batch_size, sdeint_fn, method, dt, bm, eps)\u001b[0m\n\u001b[1;32m    141\u001b[0m \u001b[38;5;66;03m# sample initial point and compute KL at t=0\u001b[39;00m\n\u001b[1;32m    142\u001b[0m y0 \u001b[38;5;241m=\u001b[39m \u001b[38;5;28mself\u001b[39m\u001b[38;5;241m.\u001b[39mqy0_mean \u001b[38;5;241m+\u001b[39m eps \u001b[38;5;241m*\u001b[39m \u001b[38;5;28mself\u001b[39m\u001b[38;5;241m.\u001b[39mqy0_std\n\u001b[0;32m--> 143\u001b[0m qy0 \u001b[38;5;241m=\u001b[39m distributions\u001b[38;5;241m.\u001b[39mNormal(loc\u001b[38;5;241m=\u001b[39m\u001b[38;5;28mself\u001b[39m\u001b[38;5;241m.\u001b[39mqy0_mean, scale\u001b[38;5;241m=\u001b[39m\u001b[38;5;28mself\u001b[39m\u001b[38;5;241m.\u001b[39mqy0_std)\n\u001b[1;32m    144\u001b[0m py0 \u001b[38;5;241m=\u001b[39m distributions\u001b[38;5;241m.\u001b[39mNormal(loc\u001b[38;5;241m=\u001b[39m\u001b[38;5;28mself\u001b[39m\u001b[38;5;241m.\u001b[39mpy0_mean, scale\u001b[38;5;241m=\u001b[39m\u001b[38;5;28mself\u001b[39m\u001b[38;5;241m.\u001b[39mpy0_std)\n\u001b[1;32m    145\u001b[0m logqp0 \u001b[38;5;241m=\u001b[39m distributions\u001b[38;5;241m.\u001b[39mkl_divergence(qy0, py0)\u001b[38;5;241m.\u001b[39msum(dim\u001b[38;5;241m=\u001b[39m\u001b[38;5;241m1\u001b[39m)\n",
      "File \u001b[0;32m~/anaconda3/envs/jupyterlab/lib/python3.11/site-packages/torch/distributions/normal.py:56\u001b[0m, in \u001b[0;36mNormal.__init__\u001b[0;34m(self, loc, scale, validate_args)\u001b[0m\n\u001b[1;32m     54\u001b[0m \u001b[38;5;28;01melse\u001b[39;00m:\n\u001b[1;32m     55\u001b[0m     batch_shape \u001b[38;5;241m=\u001b[39m \u001b[38;5;28mself\u001b[39m\u001b[38;5;241m.\u001b[39mloc\u001b[38;5;241m.\u001b[39msize()\n\u001b[0;32m---> 56\u001b[0m \u001b[38;5;28msuper\u001b[39m()\u001b[38;5;241m.\u001b[39m\u001b[38;5;21m__init__\u001b[39m(batch_shape, validate_args\u001b[38;5;241m=\u001b[39mvalidate_args)\n",
      "File \u001b[0;32m~/anaconda3/envs/jupyterlab/lib/python3.11/site-packages/torch/distributions/distribution.py:68\u001b[0m, in \u001b[0;36mDistribution.__init__\u001b[0;34m(self, batch_shape, event_shape, validate_args)\u001b[0m\n\u001b[1;32m     66\u001b[0m         valid \u001b[38;5;241m=\u001b[39m constraint\u001b[38;5;241m.\u001b[39mcheck(value)\n\u001b[1;32m     67\u001b[0m         \u001b[38;5;28;01mif\u001b[39;00m \u001b[38;5;129;01mnot\u001b[39;00m valid\u001b[38;5;241m.\u001b[39mall():\n\u001b[0;32m---> 68\u001b[0m             \u001b[38;5;28;01mraise\u001b[39;00m \u001b[38;5;167;01mValueError\u001b[39;00m(\n\u001b[1;32m     69\u001b[0m                 \u001b[38;5;124mf\u001b[39m\u001b[38;5;124m\"\u001b[39m\u001b[38;5;124mExpected parameter \u001b[39m\u001b[38;5;132;01m{\u001b[39;00mparam\u001b[38;5;132;01m}\u001b[39;00m\u001b[38;5;124m \u001b[39m\u001b[38;5;124m\"\u001b[39m\n\u001b[1;32m     70\u001b[0m                 \u001b[38;5;124mf\u001b[39m\u001b[38;5;124m\"\u001b[39m\u001b[38;5;124m(\u001b[39m\u001b[38;5;132;01m{\u001b[39;00m\u001b[38;5;28mtype\u001b[39m(value)\u001b[38;5;241m.\u001b[39m\u001b[38;5;18m__name__\u001b[39m\u001b[38;5;132;01m}\u001b[39;00m\u001b[38;5;124m of shape \u001b[39m\u001b[38;5;132;01m{\u001b[39;00m\u001b[38;5;28mtuple\u001b[39m(value\u001b[38;5;241m.\u001b[39mshape)\u001b[38;5;132;01m}\u001b[39;00m\u001b[38;5;124m) \u001b[39m\u001b[38;5;124m\"\u001b[39m\n\u001b[1;32m     71\u001b[0m                 \u001b[38;5;124mf\u001b[39m\u001b[38;5;124m\"\u001b[39m\u001b[38;5;124mof distribution \u001b[39m\u001b[38;5;132;01m{\u001b[39;00m\u001b[38;5;28mrepr\u001b[39m(\u001b[38;5;28mself\u001b[39m)\u001b[38;5;132;01m}\u001b[39;00m\u001b[38;5;124m \u001b[39m\u001b[38;5;124m\"\u001b[39m\n\u001b[1;32m     72\u001b[0m                 \u001b[38;5;124mf\u001b[39m\u001b[38;5;124m\"\u001b[39m\u001b[38;5;124mto satisfy the constraint \u001b[39m\u001b[38;5;132;01m{\u001b[39;00m\u001b[38;5;28mrepr\u001b[39m(constraint)\u001b[38;5;132;01m}\u001b[39;00m\u001b[38;5;124m, \u001b[39m\u001b[38;5;124m\"\u001b[39m\n\u001b[1;32m     73\u001b[0m                 \u001b[38;5;124mf\u001b[39m\u001b[38;5;124m\"\u001b[39m\u001b[38;5;124mbut found invalid values:\u001b[39m\u001b[38;5;130;01m\\n\u001b[39;00m\u001b[38;5;132;01m{\u001b[39;00mvalue\u001b[38;5;132;01m}\u001b[39;00m\u001b[38;5;124m\"\u001b[39m\n\u001b[1;32m     74\u001b[0m             )\n\u001b[1;32m     75\u001b[0m \u001b[38;5;28msuper\u001b[39m()\u001b[38;5;241m.\u001b[39m\u001b[38;5;21m__init__\u001b[39m()\n",
      "\u001b[0;31mValueError\u001b[0m: Expected parameter loc (Parameter of shape (1, 1)) of distribution Normal(loc: Parameter containing:\ntensor([[nan]], requires_grad=True), scale: tensor([[nan]], grad_fn=<ExpBackward0>)) to satisfy the constraint Real(), but found invalid values:\nParameter containing:\ntensor([[nan]], requires_grad=True)"
     ]
    }
   ],
   "source": [
    "for i in range(100):\n",
    "    optimizer.zero_grad()\n",
    "    zs, kl = model(\n",
    "        ts=ts, batch_size=batch_size, sdeint_fn=sdeint_fn, method=method, dt=dt\n",
    "    )\n",
    "    zs = zs.squeeze()\n",
    "    zs = zs[1:-1]\n",
    "\n",
    "    likelihood = likelihood_cls(loc=zs, scale=scale)\n",
    "    logpy = likelihood.log_prob(ys[1:-1]).sum(dim=0).mean(dim=0)\n",
    "\n",
    "    loss = (-logpy + kl * kl_scheduler.val).mean()\n",
    "    loss.backward()\n",
    "\n",
    "    optimizer.step()\n",
    "    scheduler.step()\n",
    "    kl_scheduler.step()\n",
    "    if i % 10 == 0:\n",
    "        plot_h(model.noise_path.compute_hurst, ts)\n",
    "        plt.show()\n",
    "        print(\n",
    "            f\"Iter: {i} \\t\"\n",
    "            f\"logpy: {logpy.detach().cpu().mean().numpy():.3f} \\t\"\n",
    "            f\"kl: {kl.cpu().detach().cpu().mean().numpy():.3f} \\t\"\n",
    "            f\"loss: {loss.cpu().detach().cpu().numpy():.3f}\"\n",
    "        )"
   ]
  },
  {
   "cell_type": "code",
   "execution_count": null,
   "id": "100e571e-f203-4f06-b1a3-d43c19eb9221",
   "metadata": {
    "tags": []
   },
   "outputs": [],
   "source": [
    "white_noise"
   ]
  },
  {
   "cell_type": "code",
   "execution_count": 225,
   "id": "5c4743dc-f788-4f9d-a4da-f73243ece410",
   "metadata": {
    "tags": []
   },
   "outputs": [
    {
     "data": {
      "text/plain": [
       "torch.Size([50, 5])"
      ]
     },
     "execution_count": 225,
     "metadata": {},
     "output_type": "execute_result"
    }
   ],
   "source": [
    "ts.size()"
   ]
  },
  {
   "cell_type": "code",
   "execution_count": 252,
   "id": "9db66e38-293d-4d22-a21d-8e8b0234da43",
   "metadata": {
    "tags": []
   },
   "outputs": [
    {
     "data": {
      "text/plain": [
       "tensor(518.5743, grad_fn=<MeanBackward1>)"
      ]
     },
     "execution_count": 252,
     "metadata": {},
     "output_type": "execute_result"
    }
   ],
   "source": [
    "kl"
   ]
  },
  {
   "cell_type": "code",
   "execution_count": 195,
   "id": "cacf5c12-c068-465b-b46e-e6795a66112a",
   "metadata": {
    "tags": []
   },
   "outputs": [
    {
     "data": {
      "image/png": "[encoded data removed]",
      "text/plain": [
       "<Figure size 500x400 with 1 Axes>"
      ]
     },
     "metadata": {},
     "output_type": "display_data"
    }
   ],
   "source": [
    "plot_h(model.noise_path.compute_hurst, ts)"
   ]
  },
  {
   "cell_type": "code",
   "execution_count": 5,
   "id": "ef08ea3d-1abe-463e-b591-0e8a9e5431c2",
   "metadata": {
    "tags": []
   },
   "outputs": [],
   "source": [
    "def plot_h(hurst_fn, ts, shift=0.0):\n",
    "    \"\"\"Plot Hurst function\"\"\"\n",
    "    plt.figure(figsize=(5, 4))\n",
    "\n",
    "    with torch.no_grad():\n",
    "        ht = hurst_fn(ts)\n",
    "\n",
    "        plt.plot(ts - shift, ht, label=\"ours\", alpha=0.8)\n",
    "        plt.xlabel(r\"$t$\")\n",
    "        plt.ylabel(r\"$h(t)$\")\n",
    "        plt.legend()"
   ]
  },
  {
   "cell_type": "code",
   "execution_count": 231,
   "id": "7bae9421-0c4d-478e-8661-f43c73954a8c",
   "metadata": {
    "tags": []
   },
   "outputs": [
    {
     "data": {
      "text/plain": [
       "torch.Size([433, 50])"
      ]
     },
     "execution_count": 231,
     "metadata": {},
     "output_type": "execute_result"
    }
   ],
   "source": [
    "torch.from_numpy(np.linspace(np.zeros(50)[0],np.full((1,50),1)[0],433)).size()"
   ]
  },
  {
   "cell_type": "code",
   "execution_count": 226,
   "id": "9f5413a9-8a14-46a6-9107-665ba353ecee",
   "metadata": {
    "tags": []
   },
   "outputs": [
    {
     "data": {
      "text/plain": [
       "torch.Size([433, 1, 50])"
      ]
     },
     "execution_count": 226,
     "metadata": {},
     "output_type": "execute_result"
    }
   ],
   "source": [
    "ys.size()"
   ]
  },
  {
   "cell_type": "code",
   "execution_count": 235,
   "id": "c1586ff4-235d-4843-881c-2f8fcb7e4c0d",
   "metadata": {
    "tags": []
   },
   "outputs": [
    {
     "data": {
      "text/plain": [
       "torch.Size([433, 50])"
      ]
     },
     "execution_count": 235,
     "metadata": {},
     "output_type": "execute_result"
    }
   ],
   "source": [
    "torch.from_numpy(np.matrix(glove_data)).size()"
   ]
  },
  {
   "cell_type": "code",
   "execution_count": 3,
   "id": "cc2ae89d-17a0-41ee-a01c-889c7543e8dd",
   "metadata": {},
   "outputs": [
    {
     "data": {
      "text/plain": [
       "tensor([[[ 8.7943e-01, -1.1176e-01,  4.3380e-01,  ...,  3.7183e-01,\n",
       "          -7.1368e-01,  3.0175e-01]],\n",
       "\n",
       "        [[ 8.5692e-01,  1.1972e+00, -1.1754e+00,  ..., -3.4074e-01,\n",
       "          -4.2359e-01, -2.6171e+00]],\n",
       "\n",
       "        [[-8.2643e-01,  1.0991e+00, -1.1004e+00,  ...,  4.5312e-01,\n",
       "          -3.7188e-01, -6.5143e-01]],\n",
       "\n",
       "        ...,\n",
       "\n",
       "        [[ 4.9861e-01, -1.2284e-01,  4.4772e-01,  ...,  2.6395e-01,\n",
       "          -6.2214e-02,  6.2920e-01]],\n",
       "\n",
       "        [[ 8.8387e-01, -1.4199e-01,  1.3566e-01,  ...,  5.2711e-01,\n",
       "          -2.0148e-01,  9.5952e-03]],\n",
       "\n",
       "        [[ 1.3153e+00, -2.3492e-02,  2.1741e-01,  ...,  9.6255e-01,\n",
       "           4.5711e-01,  7.6767e-04]]], dtype=torch.float64)"
      ]
     },
     "execution_count": 3,
     "metadata": {},
     "output_type": "execute_result"
    }
   ],
   "source": [
    "ys"
   ]
  },
  {
   "cell_type": "code",
   "execution_count": null,
   "id": "3577a4d4-e98e-4f0a-a95f-ee699ec628b3",
   "metadata": {},
   "outputs": [],
   "source": []
  }
 ],
 "metadata": {
  "kernelspec": {
   "display_name": "Python 3 (ipykernel)",
   "language": "python",
   "name": "python3"
  },
  "language_info": {
   "codemirror_mode": {
    "name": "ipython",
    "version": 3
   },
   "file_extension": ".py",
   "mimetype": "text/x-python",
   "name": "python",
   "nbconvert_exporter": "python",
   "pygments_lexer": "ipython3",
   "version": "3.11.5"
  }
 },
 "nbformat": 4,
 "nbformat_minor": 5
}
